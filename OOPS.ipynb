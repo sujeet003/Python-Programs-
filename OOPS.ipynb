{
 "cells": [
  {
   "cell_type": "markdown",
   "id": "9feabec1",
   "metadata": {},
   "source": [
    "# class"
   ]
  },
  {
   "cell_type": "markdown",
   "id": "a78099d3",
   "metadata": {},
   "source": [
    "A class is a collection of objects. A class contains the blueprints or the prototype from which the objects are being created. It is a logical entity that contains some attributes and methods. "
   ]
  },
  {
   "cell_type": "code",
   "execution_count": null,
   "id": "5b851837",
   "metadata": {},
   "outputs": [],
   "source": [
    "class Employee: #blueprint,template where we can fill our details again and again"
   ]
  },
  {
   "cell_type": "code",
   "execution_count": 5,
   "id": "9c21db82",
   "metadata": {},
   "outputs": [],
   "source": [
    "class Employee:\n",
    "    pass # pass is for pasing nothing but to avoid error\n",
    "\n",
    "    "
   ]
  },
  {
   "cell_type": "markdown",
   "id": "cb6061c9",
   "metadata": {},
   "source": [
    "# Creating class,self,__init__"
   ]
  },
  {
   "cell_type": "code",
   "execution_count": 12,
   "id": "a36dbc45",
   "metadata": {},
   "outputs": [
    {
     "name": "stdout",
     "output_type": "stream",
     "text": [
      "sujit kumbhar 34343\n",
      "vrushabh\n"
     ]
    }
   ],
   "source": [
    "class Employee:\n",
    "    def __init__(self,fname,lname,salary):#in gets automatically executed when object is created and self is to address current obj\n",
    "        self.fname = fname\n",
    "        self.lname = lname\n",
    "        self.salary = salary\n",
    "        \n",
    "E1 = Employee(\"sujit\",\"kumbhar\",34343)\n",
    "E2 = Employee('vrushabh',\"kothari\",500000)        \n",
    "print(E1.fname,E1.lname,E1.salary)# here (.) is for accessing the attribute of a class\n",
    "\n",
    "print(E2.fname)"
   ]
  },
  {
   "cell_type": "code",
   "execution_count": 40,
   "id": "80c09838",
   "metadata": {},
   "outputs": [
    {
     "name": "stdout",
     "output_type": "stream",
     "text": [
      "3000\n",
      "6000\n",
      "{'__module__': '__main__', 'increment': 2, '__init__': <function Employee.__init__ at 0x7fe0d106e310>, 'increase': <function Employee.increase at 0x7fe0d106e4c0>, '__dict__': <attribute '__dict__' of 'Employee' objects>, '__weakref__': <attribute '__weakref__' of 'Employee' objects>, '__doc__': None}\n"
     ]
    }
   ],
   "source": [
    "#suppose we want to increase the employees salary of all by certain amount\n",
    "\n",
    "class Employee:\n",
    "    increment = 2#increase times\n",
    "    def __init__(self,fname,lname,salary):#in gets automatically executed when object is created and self is to address current obj\n",
    "        self.fname = fname\n",
    "        self.lname = lname\n",
    "        self.salary = salary\n",
    "        Employee.no_of_employees +1 \n",
    "        \n",
    "    def increase(self):\n",
    "        self.salary = int(self.salary * Employee.increment)#bydefault it will take the Employee variable \n",
    "        #self.increament is also fine \n",
    "        \n",
    "E1 = Employee(\"sujit\",\"kumbhar\",3000)\n",
    "print(E1.salary)\n",
    "\n",
    "E1.increase()\n",
    "print(E1.salary)\n",
    "print(Employee.__dict__) #this shows all the instances of a Class Employee\n",
    " "
   ]
  },
  {
   "cell_type": "code",
   "execution_count": 39,
   "id": "c6387bd9",
   "metadata": {},
   "outputs": [
    {
     "name": "stdout",
     "output_type": "stream",
     "text": [
      "{'fname': 'sujit', 'lname': 'kumbhar', 'salary': 6000}\n"
     ]
    }
   ],
   "source": [
    "print(E1.__dict__) #shows the instances of a function"
   ]
  },
  {
   "cell_type": "code",
   "execution_count": 51,
   "id": "edf69f09",
   "metadata": {},
   "outputs": [
    {
     "name": "stdout",
     "output_type": "stream",
     "text": [
      "0\n",
      "1\n",
      "2\n"
     ]
    }
   ],
   "source": [
    "#employee count \n",
    "class Employee:\n",
    "    increment = 2#increase times\n",
    "    no_of_employee = 0\n",
    "    def __init__(self,fname,lname,salary):#in gets automatically executed when object is created and self is to address current obj\n",
    "        self.fname = fname\n",
    "        self.lname = lname\n",
    "        self.salary = salary\n",
    "        Employee.no_of_employee +=1 \n",
    "        \n",
    "    def increase(self):\n",
    "        self.salary = int(self.salary * Employee.increment)#bydefault it will take the Employee variable \n",
    "        #self.increament is also fine \n",
    "print(Employee.no_of_employee)        \n",
    "E1 = Employee(\"sujit\",\"kumbhar\",3000)\n",
    "print(E1.no_of_employee)\n",
    "E2 = Employee(\"harshad\",\"kumbhar\",3000)\n",
    "print(E1.no_of_employee)\n",
    "\n",
    "# print(E1.salary)\"\n"
   ]
  },
  {
   "cell_type": "markdown",
   "id": "489d0bfe",
   "metadata": {},
   "source": [
    "# objects "
   ]
  },
  {
   "cell_type": "markdown",
   "id": "18e0e427",
   "metadata": {},
   "source": [
    "The object is an entity that has a state and behavior associated with it. It may be any real-world object like a mouse, keyboard, chair, table, pen, etc. Integers, strings, floating-point numbers, even arrays, and dictionaries, are all objects. More specifically, any single integer or any single string is an object. The number 12 is an object, the string “Hello, world” is an object, a list is an object that can hold other objects, and so on. You’ve been using objects all along and may not even realize it."
   ]
  },
  {
   "cell_type": "code",
   "execution_count": 5,
   "id": "d647aefa",
   "metadata": {},
   "outputs": [],
   "source": [
    "#example\n",
    "obj1 = Dog()"
   ]
  },
  {
   "cell_type": "code",
   "execution_count": 12,
   "id": "0b652fd4",
   "metadata": {},
   "outputs": [
    {
     "name": "stdout",
     "output_type": "stream",
     "text": [
      "hello my name is tommy\n",
      "hello my name is tuffy\n"
     ]
    }
   ],
   "source": [
    "#Creatting class and objects with the instance attribute\n",
    "\n",
    "class Dog:\n",
    "    attr1=\"mammal\"#class attribute\n",
    "    \n",
    "    def __init__(self,name):\n",
    "        self.name=name\n",
    "        \n",
    "    def speak(self):\n",
    "        print(\"hello my name is {}\".format(self.name))\n",
    "# object ceation        \n",
    "obj1 = Dog(\"tommy\")\n",
    "obj2 = Dog(\"tuffy\")\n",
    "# accesing function\n",
    "obj1.speak()\n",
    "obj2.speak()"
   ]
  },
  {
   "cell_type": "markdown",
   "id": "f68d41b8",
   "metadata": {},
   "source": [
    "# Inheritance"
   ]
  },
  {
   "cell_type": "markdown",
   "id": "0a22c1b2",
   "metadata": {},
   "source": [
    "Inheritance is the capability of one class to derive or inherit the properties from another class. The class that derives properties is called the derived class or child class and the class from which the properties are being derived is called the base class or parent class. \n",
    "\n",
    "Types of Inheritance – \n",
    "Single Inheritance:\n",
    "Single-level inheritance enables a derived class to inherit characteristics from a single-parent class.\n",
    "\n",
    "Multilevel Inheritance:\n",
    "Multi-level inheritance enables a derived class to inherit properties from an immediate parent class which in turn inherits properties from his parent class.\n",
    "\n",
    "Hierarchical Inheritance:\n",
    "Hierarchical level inheritance enables more than one derived class to inherit properties from a parent class.\n",
    "\n",
    "Multiple Inheritance:\n",
    "Multiple level inheritance enables one derived class to inherit properties from more than one base class."
   ]
  },
  {
   "cell_type": "code",
   "execution_count": 29,
   "id": "9b5b81cc",
   "metadata": {},
   "outputs": [
    {
     "name": "stdout",
     "output_type": "stream",
     "text": [
      "sujit\n",
      "1\n",
      "My Name is:sujit\n",
      "id is:1\n",
      "My salary is:20000\n",
      "My post is :Data Engineer Intern\n"
     ]
    }
   ],
   "source": [
    "#Example to demonstrate the Parent class and the base class\n",
    "\n",
    "class Person(object): #parent class\n",
    "    \n",
    "    def __init__(self,name,idnumber):\n",
    "        self.name=name\n",
    "        self.idnumber=idnumber\n",
    "        \n",
    "    def Display(self):\n",
    "        print(self.name)\n",
    "        print(self.idnumber)\n",
    "        \n",
    "    def details(self):\n",
    "        print(\"my name is:{}\".format(self.name))\n",
    "        print(\"idnumber is:{}\".format(self.idnumber))\n",
    "        \n",
    "class Employee(Person):#accesing the parent class \n",
    "    \n",
    "    def __init__(self,name,idnumber,salary,post):\n",
    "        self.salary= salary\n",
    "        self.post = post\n",
    "        \n",
    "    #invoking the __init__ of parent class\n",
    "        Person.__init__(self,name,idnumber)\n",
    "        \n",
    "    def Details(self):\n",
    "        print(\"My Name is:{}\".format(self.name))\n",
    "        print(\"id is:{}\".format(self.idnumber))\n",
    "        print(\"My salary is:{}\".format(self.salary))\n",
    "        print(\"My post is :{}\".format(self.post))\n",
    "        \n",
    "a = Employee(\"sujit\",1,20000,\"Data Engineer Intern\")\n",
    "\n",
    "a.Display()\n",
    "a.Details()"
   ]
  }
 ],
 "metadata": {
  "kernelspec": {
   "display_name": "Python 3 (ipykernel)",
   "language": "python",
   "name": "python3"
  },
  "language_info": {
   "codemirror_mode": {
    "name": "ipython",
    "version": 3
   },
   "file_extension": ".py",
   "mimetype": "text/x-python",
   "name": "python",
   "nbconvert_exporter": "python",
   "pygments_lexer": "ipython3",
   "version": "3.8.10"
  }
 },
 "nbformat": 4,
 "nbformat_minor": 5
}
