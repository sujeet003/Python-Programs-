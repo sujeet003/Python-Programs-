{
 "cells": [
  {
   "cell_type": "markdown",
   "id": "064aadc3",
   "metadata": {},
   "source": [
    "Reverse The Number!!"
   ]
  },
  {
   "cell_type": "code",
   "execution_count": 1,
   "id": "8e1605f6",
   "metadata": {},
   "outputs": [
    {
     "name": "stdout",
     "output_type": "stream",
     "text": [
      "43221\n"
     ]
    }
   ],
   "source": [
    "num = 12234\n",
    "rev = 0\n",
    "\n",
    "while num !=0:\n",
    "    digit = num % 10\n",
    "    rev = rev*10 + digit\n",
    "    num = num // 10\n",
    "print(str(rev))"
   ]
  },
  {
   "cell_type": "markdown",
   "id": "17cbc0d7",
   "metadata": {},
   "source": [
    "Reverse the String"
   ]
  },
  {
   "cell_type": "code",
   "execution_count": 1,
   "id": "0a545b6b",
   "metadata": {},
   "outputs": [
    {
     "name": "stdout",
     "output_type": "stream",
     "text": [
      "The reversed string is  teejuS\n"
     ]
    }
   ],
   "source": [
    "s = \"Sujeet\"\n",
    "def reverse(s):\n",
    "    str = \"\"\n",
    "    for i in s:\n",
    "        str = i + str\n",
    "    return str\n",
    "print(\"The reversed string is \",reverse(s))"
   ]
  },
  {
   "cell_type": "code",
   "execution_count": 3,
   "id": "d5fce5bb",
   "metadata": {},
   "outputs": [
    {
     "name": "stdout",
     "output_type": "stream",
     "text": [
      "reverse sujeet\n"
     ]
    }
   ],
   "source": [
    "s = \"teejus\"\n",
    "def rev(s):\n",
    "    str = ''\n",
    "    for i in s:\n",
    "        str = i + str\n",
    "    return str\n",
    "print(\"reverse\",rev(s))"
   ]
  },
  {
   "cell_type": "code",
   "execution_count": 2,
   "id": "31bc7e3f",
   "metadata": {},
   "outputs": [
    {
     "name": "stdout",
     "output_type": "stream",
     "text": [
      "jus\n"
     ]
    }
   ],
   "source": [
    "# s = \"dimm\"\n",
    "def revv(s):\n",
    "    str = ''\n",
    "    for i in s:\n",
    "        str = i + str\n",
    "        \n",
    "    return str\n",
    "print(revv(\"suj\"))"
   ]
  },
  {
   "cell_type": "markdown",
   "id": "208aa236",
   "metadata": {},
   "source": [
    "Uncommon elements from the string without inbuilt"
   ]
  },
  {
   "cell_type": "code",
   "execution_count": 1,
   "id": "26d019e8",
   "metadata": {},
   "outputs": [
    {
     "name": "stdout",
     "output_type": "stream",
     "text": [
      " f o r q u i z\n"
     ]
    }
   ],
   "source": [
    "def UncommonChars(a,b):\n",
    "    uncommon_words = ''\n",
    "    for i in a:\n",
    "        if i not in b:\n",
    "            uncommon_words = uncommon_words + \" \" + i\n",
    "    for j in b:\n",
    "        if j not in a:\n",
    "            uncommon_words = uncommon_words + \" \" + j\n",
    "    return uncommon_words\n",
    "a = \"geeksforgeeks\"\n",
    "b = \"geeksquiz\"\n",
    "\n",
    "print(UncommonChars(a,b))"
   ]
  },
  {
   "cell_type": "markdown",
   "id": "c0e37d82",
   "metadata": {},
   "source": [
    "Given a string S. The task is to find the first repeated character in it. We need to find the character that occurs more than once and whose index of second occurrence is smallest. S contains only lowercase letters."
   ]
  },
  {
   "cell_type": "code",
   "execution_count": 3,
   "id": "0a980cf9",
   "metadata": {},
   "outputs": [
    {
     "name": "stdout",
     "output_type": "stream",
     "text": [
      "sujeeut\n",
      "sujeeut\n",
      "sujeeut\n",
      "sujeeut\n",
      "sujeeut\n",
      "sujeeut\n"
     ]
    }
   ],
   "source": [
    "S = \"sujeeut\"\n",
    "count=0\n",
    "for i in range(len(S)):\n",
    "    if S[i] == S[i]:\n",
    "        count = count +1\n",
    "        if count > 1:\n",
    "            print(S)"
   ]
  },
  {
   "cell_type": "code",
   "execution_count": null,
   "id": "6d841587",
   "metadata": {},
   "outputs": [],
   "source": []
  },
  {
   "cell_type": "code",
   "execution_count": null,
   "id": "c12492dc",
   "metadata": {},
   "outputs": [],
   "source": []
  }
 ],
 "metadata": {
  "kernelspec": {
   "display_name": "Python 3 (ipykernel)",
   "language": "python",
   "name": "python3"
  },
  "language_info": {
   "codemirror_mode": {
    "name": "ipython",
    "version": 3
   },
   "file_extension": ".py",
   "mimetype": "text/x-python",
   "name": "python",
   "nbconvert_exporter": "python",
   "pygments_lexer": "ipython3",
   "version": "3.10.9"
  }
 },
 "nbformat": 4,
 "nbformat_minor": 5
}
