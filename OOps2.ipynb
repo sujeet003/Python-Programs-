{
 "cells": [
  {
   "cell_type": "markdown",
   "id": "d6879e2b",
   "metadata": {},
   "source": [
    "# Polymorphism"
   ]
  },
  {
   "cell_type": "markdown",
   "id": "aca24076",
   "metadata": {},
   "source": [
    "The word polymorphism means having many forms. In programming, polymorphism means the same function name (but different signatures) being used for different types.\n",
    "\n",
    "Example of inbuilt polymorphic functions:"
   ]
  },
  {
   "cell_type": "code",
   "execution_count": 1,
   "id": "f4a6049f",
   "metadata": {},
   "outputs": [
    {
     "name": "stdout",
     "output_type": "stream",
     "text": [
      "13\n"
     ]
    }
   ],
   "source": [
    "print(len(\"sujit kumbhar\"))"
   ]
  },
  {
   "cell_type": "code",
   "execution_count": 13,
   "id": "7b9e4793",
   "metadata": {},
   "outputs": [
    {
     "name": "stdout",
     "output_type": "stream",
     "text": [
      "5\n"
     ]
    }
   ],
   "source": [
    "print(len([12,34,56,\"sujit\",2.4]))\n",
    "#  here the len inbuilt function playes two differ roles"
   ]
  },
  {
   "cell_type": "code",
   "execution_count": 3,
   "id": "d059c06d",
   "metadata": {},
   "outputs": [
    {
     "name": "stdout",
     "output_type": "stream",
     "text": [
      "This is man\n",
      "This is women\n",
      "women is a mammal\n",
      "women is a hot blooded\n"
     ]
    }
   ],
   "source": [
    "class Human:\n",
    "    def man(self):\n",
    "        print(\"This is man\")\n",
    "    \n",
    "    def women(self):\n",
    "        print(\"This is women\")\n",
    "        \n",
    "class animal(Human):\n",
    "    def women(self):\n",
    "        print(\"women is a mammal\")\n",
    "class animal2(Human):\n",
    "    def women(self):\n",
    "        print(\"women is a hot blooded\")\n",
    "        \n",
    "obj_human = Human()\n",
    "obj_animal = animal()\n",
    "obj_animal2 = animal2()\n",
    "\n",
    "obj_human.man()#Human class\n",
    "obj_human.women()\n",
    "\n",
    "obj_animal.women()# Animal class\n",
    "\n",
    "obj_animal2.women()#Animal class"
   ]
  },
  {
   "cell_type": "code",
   "execution_count": null,
   "id": "a7d53bcd",
   "metadata": {},
   "outputs": [],
   "source": []
  },
  {
   "cell_type": "code",
   "execution_count": null,
   "id": "fd32d61b",
   "metadata": {},
   "outputs": [],
   "source": []
  },
  {
   "cell_type": "markdown",
   "id": "bcdd218f",
   "metadata": {},
   "source": [
    "# Encapsulation"
   ]
  },
  {
   "cell_type": "markdown",
   "id": "339235d0",
   "metadata": {},
   "source": [
    "Encapsulation is one of the fundamental concepts in object-oriented programming (OOP). It describes the idea of wrapping data and the methods that work on data within one unit. This puts restrictions on accessing variables and methods directly and can prevent the accidental modification of data. To prevent accidental change"
   ]
  },
  {
   "cell_type": "code",
   "execution_count": 4,
   "id": "45fb203e",
   "metadata": {},
   "outputs": [
    {
     "name": "stdout",
     "output_type": "stream",
     "text": [
      "sujit\n",
      "kumbhar\n"
     ]
    }
   ],
   "source": [
    "# before Adding the Private members\n",
    "class Base:\n",
    "    def __init__(self):\n",
    "        self.a=\"sujit\"\n",
    "        self.b=\"kumbhar\"\n",
    "        \n",
    "class Derived(Base):\n",
    "    def __init__(self):\n",
    "        Base.__init__(self)\n",
    "        print(\"calling the private members of base class\")\n",
    "        print(self.b)\n",
    "obj1 = Base()\n",
    "# obj2 = Derived()\n",
    "print(obj1.a)\n",
    "print(obj1.b)"
   ]
  },
  {
   "cell_type": "code",
   "execution_count": 5,
   "id": "352ee5a8",
   "metadata": {},
   "outputs": [
    {
     "name": "stdout",
     "output_type": "stream",
     "text": [
      "sujit\n"
     ]
    },
    {
     "ename": "AttributeError",
     "evalue": "'Base' object has no attribute '__b'",
     "output_type": "error",
     "traceback": [
      "\u001b[0;31m---------------------------------------------------------------------------\u001b[0m",
      "\u001b[0;31mAttributeError\u001b[0m                            Traceback (most recent call last)",
      "\u001b[0;32m/tmp/ipykernel_5928/3409861708.py\u001b[0m in \u001b[0;36m<module>\u001b[0;34m\u001b[0m\n\u001b[1;32m     13\u001b[0m \u001b[0;34m\u001b[0m\u001b[0m\n\u001b[1;32m     14\u001b[0m \u001b[0mprint\u001b[0m\u001b[0;34m(\u001b[0m\u001b[0mobj1\u001b[0m\u001b[0;34m.\u001b[0m\u001b[0ma\u001b[0m\u001b[0;34m)\u001b[0m\u001b[0;34m\u001b[0m\u001b[0;34m\u001b[0m\u001b[0m\n\u001b[0;32m---> 15\u001b[0;31m \u001b[0mprint\u001b[0m\u001b[0;34m(\u001b[0m\u001b[0mobj1\u001b[0m\u001b[0;34m.\u001b[0m\u001b[0m__b\u001b[0m\u001b[0;34m)\u001b[0m\u001b[0;31m#private member access gives attribute error\u001b[0m\u001b[0;34m\u001b[0m\u001b[0;34m\u001b[0m\u001b[0m\n\u001b[0m",
      "\u001b[0;31mAttributeError\u001b[0m: 'Base' object has no attribute '__b'"
     ]
    }
   ],
   "source": [
    "# After Adding the Private members\n",
    "class Base:\n",
    "    def __init__(self):\n",
    "        self.a=\"sujit\"\n",
    "        self.b=\"__kumbhar\"\n",
    "        \n",
    "class Derived(Base):\n",
    "    def __init__(self):\n",
    "        Base.__init__(self)\n",
    "        print(\"calling the private members of base class\")\n",
    "        print(self.__b)\n",
    "obj1 = Base()\n",
    "\n",
    "print(obj1.a)\n",
    "print(obj1.__b)#private member access gives attribute error"
   ]
  },
  {
   "cell_type": "code",
   "execution_count": null,
   "id": "91ae302b",
   "metadata": {},
   "outputs": [],
   "source": [
    "obj2 = Derived()"
   ]
  },
  {
   "cell_type": "markdown",
   "id": "c9d3eb3e",
   "metadata": {},
   "source": [
    "# Protected Members "
   ]
  },
  {
   "cell_type": "markdown",
   "id": "8c9138b9",
   "metadata": {},
   "source": [
    "protected members are those members of the class that cannot be accessed outside the class but can be accessed from within the class and its subclasses. We use Single Underscore( _ ) "
   ]
  },
  {
   "cell_type": "code",
   "execution_count": null,
   "id": "d71dfe19",
   "metadata": {},
   "outputs": [],
   "source": [
    "#Example\n",
    "class Base:#Parent class\n",
    "    def __init__(self):\n",
    " \n",
    "        # Protected member\n",
    "        self._a = 2\n",
    " \n",
    "\n",
    "class Derived(Base):# child class\n",
    "    def __init__(self):\n",
    " \n",
    "        # Calling constructor of base class\n",
    "        Base.__init__(self)\n",
    "        print(\"Calling protected member of base class: \",\n",
    "              self._a)\n",
    " \n",
    "        # Modify the protected variable:\n",
    "        self._a = 3\n",
    "        print(\"Calling modified protected member outside class: \",\n",
    "              self._a)\n",
    " \n",
    " \n",
    "obj1 = Derived()\n",
    " \n",
    "obj2 = Base()\n",
    " \n",
    "# Calling protected member\n",
    "# Can be accessed but should not be done due to convention\n",
    "print(\"Accessing protected member of obj1: \", obj1._a)\n",
    " \n",
    "# Accessing the protected variable outside\n",
    "print(\"Accessing protected member of obj2: \", obj2._a)"
   ]
  },
  {
   "cell_type": "markdown",
   "id": "feb65759",
   "metadata": {},
   "source": [
    "# Private Members"
   ]
  },
  {
   "cell_type": "markdown",
   "id": "754890ef",
   "metadata": {},
   "source": [
    "Private members are similar to protected members, the difference is that the class members declared private should neither be accessed outside the class nor by any base class."
   ]
  },
  {
   "cell_type": "code",
   "execution_count": null,
   "id": "1ead772a",
   "metadata": {},
   "outputs": [],
   "source": [
    "class Base:\n",
    "    def __init__(self):\n",
    "        self.a = \"Sujit\"\n",
    "        self.__b = \"Kumbhar\"\n",
    " \n",
    "class Derived(Base):\n",
    "    def __init__(self):\n",
    " \n",
    "        # Calling constructor of\n",
    "        # Base class\n",
    "        Base.__init__(self)\n",
    "        print(\"Calling private member of base class: \")\n",
    "        print(self.__b)\n",
    " \n",
    " \n",
    "\n",
    "obj1 = Base()\n",
    "print(obj1.a)\n",
    " \n",
    "# print(obj1.b)  will raise an AttributeError as it's a private variable\n",
    " \n",
    "# obj2 = Derived() will also raise an AtrributeError as private member of base class\n",
    "# is called inside derived class"
   ]
  },
  {
   "cell_type": "code",
   "execution_count": null,
   "id": "5d111faf",
   "metadata": {},
   "outputs": [],
   "source": []
  },
  {
   "cell_type": "markdown",
   "id": "8ef344cd",
   "metadata": {},
   "source": [
    "# Abstraction\n"
   ]
  },
  {
   "cell_type": "markdown",
   "id": "9eb88cfa",
   "metadata": {},
   "source": [
    "Abstraction is used to hide the internal functionality of the function from the users. The users only interact with the basic implementation of the function, but inner working is hidden. User is familiar with that \"what function does\" but they don't know \"how it does\".\n",
    "\n",
    "Why Abstraction is Important?\n",
    "\n",
    "In Python, an abstraction is used to hide the irrelevant data/class in order to reduce the complexity. It also enhances the application efficiency.\n",
    "\n",
    "Basically it gives the standardization for a code to follow some basic rules."
   ]
  },
  {
   "cell_type": "markdown",
   "id": "145a5d94",
   "metadata": {},
   "source": [
    "Syntax\n",
    "\n",
    "from abc import ABC  \n",
    "class ClassName(ABC): "
   ]
  },
  {
   "cell_type": "code",
   "execution_count": 11,
   "id": "a60002b2",
   "metadata": {},
   "outputs": [
    {
     "data": {
      "text/plain": [
       "30"
      ]
     },
     "execution_count": 11,
     "metadata": {},
     "output_type": "execute_result"
    }
   ],
   "source": [
    "from abc import ABC, abstractmethod\n",
    "\n",
    "class shape(ABC):  #using abstract class\n",
    "    \n",
    "    @abstractmethod #using abstract method\n",
    "    def printarea(self):\n",
    "        return 0\n",
    "    \n",
    "class Rectangle(shape):\n",
    "        type = \"Rectangle\"\n",
    "        sides = 4\n",
    "        \n",
    "        def __init__(self):\n",
    "            self.length = 6\n",
    "            self.width = 5\n",
    "            \n",
    "        def printarea(self): \n",
    "            return self.length* self.width\n",
    "        \n",
    "obj = Rectangle()\n",
    "obj.printarea()\n",
    "    "
   ]
  },
  {
   "cell_type": "code",
   "execution_count": null,
   "id": "0e6fdba3",
   "metadata": {},
   "outputs": [],
   "source": []
  }
 ],
 "metadata": {
  "kernelspec": {
   "display_name": "Python 3 (ipykernel)",
   "language": "python",
   "name": "python3"
  },
  "language_info": {
   "codemirror_mode": {
    "name": "ipython",
    "version": 3
   },
   "file_extension": ".py",
   "mimetype": "text/x-python",
   "name": "python",
   "nbconvert_exporter": "python",
   "pygments_lexer": "ipython3",
   "version": "3.8.10"
  }
 },
 "nbformat": 4,
 "nbformat_minor": 5
}
